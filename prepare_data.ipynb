{
 "cells": [
  {
   "cell_type": "code",
   "execution_count": 1,
   "metadata": {},
   "outputs": [],
   "source": [
    "import numpy as np\n",
    "import pandas as pd"
   ]
  },
  {
   "cell_type": "code",
   "execution_count": 59,
   "metadata": {},
   "outputs": [
    {
     "data": {
      "text/plain": [
       "DatetimeIndex(['2013-02-08', '2013-02-11', '2013-02-12', '2013-02-13',\n",
       "               '2013-02-14', '2013-02-15', '2013-02-19', '2013-02-20',\n",
       "               '2013-02-21', '2013-02-22',\n",
       "               ...\n",
       "               '2018-01-25', '2018-01-26', '2018-01-29', '2018-01-30',\n",
       "               '2018-01-31', '2018-02-01', '2018-02-02', '2018-02-05',\n",
       "               '2018-02-06', '2018-02-07'],\n",
       "              dtype='datetime64[ns]', name='date', length=1259, freq=None)"
      ]
     },
     "execution_count": 59,
     "metadata": {},
     "output_type": "execute_result"
    }
   ],
   "source": [
    "df = pd.read_csv('all_stocks_5yr.csv' , parse_dates = ['date']).set_index('date')"
   ]
  },
  {
   "cell_type": "code",
   "execution_count": 63,
   "metadata": {},
   "outputs": [],
   "source": [
    "df\n",
    "series = []\n",
    "seriesv = []\n",
    "for name in df.Name.unique():\n",
    "    serie = df[df.Name == name].reset_index().close.values\n",
    "    seriev = df[df.Name == name].reset_index().volume.values\n",
    "    series.append(serie)\n",
    "    seriesv.append(seriev)"
   ]
  },
  {
   "cell_type": "code",
   "execution_count": 64,
   "metadata": {},
   "outputs": [],
   "source": [
    "price = pd.DataFrame(series , columns = df.index.unique() , index = df.Name.unique()).T\n",
    "volume = pd.DataFrame(seriesv , columns = df.index.unique() , index = df.Name.unique()).T"
   ]
  },
  {
   "cell_type": "code",
   "execution_count": 74,
   "metadata": {},
   "outputs": [],
   "source": [
    "index = volume.sum().sort_values(ascending = False).index.values"
   ]
  },
  {
   "cell_type": "code",
   "execution_count": 89,
   "metadata": {},
   "outputs": [
    {
     "name": "stdout",
     "output_type": "stream",
     "text": [
      "Top 50 Volume companies average price 60.38969540697049\n",
      "Min 50 Volume companies average price 104.77573508558345\n"
     ]
    }
   ],
   "source": [
    "top50 = index[len(index)//2:]\n",
    "min50 = index[:len(index)//2]\n",
    "\n",
    "price_min50 = price[top50]\n",
    "price_top50 = price[min50]\n",
    "\n",
    "print('Top 50 Volume companies average price' , price_top50.mean().mean())\n",
    "print('Min 50 Volume companies average price' , price_min50.mean().mean())"
   ]
  },
  {
   "cell_type": "code",
   "execution_count": 104,
   "metadata": {},
   "outputs": [
    {
     "name": "stdout",
     "output_type": "stream",
     "text": [
      "Average price Bank of America :  17.704177918983333\n"
     ]
    }
   ],
   "source": [
    "print('Average price Bank of America : ' , price.mean()['BAC'])"
   ]
  },
  {
   "cell_type": "code",
   "execution_count": 102,
   "metadata": {},
   "outputs": [
    {
     "data": {
      "text/plain": [
       "0.015144274540913607"
      ]
     },
     "execution_count": 102,
     "metadata": {},
     "output_type": "execute_result"
    }
   ],
   "source": [
    "price.pct_change().dropna().std().mean()"
   ]
  },
  {
   "cell_type": "code",
   "execution_count": null,
   "metadata": {},
   "outputs": [],
   "source": [
    "price.to_csv('financial_data.csv')\n",
    "volume.to_csv('volume.csv')"
   ]
  }
 ],
 "metadata": {
  "kernelspec": {
   "display_name": "Python 3",
   "language": "python",
   "name": "python3"
  },
  "language_info": {
   "codemirror_mode": {
    "name": "ipython",
    "version": 3
   },
   "file_extension": ".py",
   "mimetype": "text/x-python",
   "name": "python",
   "nbconvert_exporter": "python",
   "pygments_lexer": "ipython3",
   "version": "3.7.3"
  }
 },
 "nbformat": 4,
 "nbformat_minor": 2
}
